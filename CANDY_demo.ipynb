{
 "cells": [
  {
   "cell_type": "markdown",
   "id": "1ae0762b",
   "metadata": {},
   "source": [
    "## SC22 CANDY project demo"
   ]
  },
  {
   "cell_type": "markdown",
   "id": "f8c1196e",
   "metadata": {},
   "source": [
    "First, install all dependencies."
   ]
  },
  {
   "cell_type": "code",
   "execution_count": 2,
   "id": "07f16dc8",
   "metadata": {},
   "outputs": [
    {
     "name": "stdout",
     "output_type": "stream",
     "text": [
      "Collecting gdown\n",
      "  Downloading gdown-4.5.3.tar.gz (14 kB)\n",
      "  Installing build dependencies ... \u001b[?25ldone\n",
      "\u001b[?25h  Getting requirements to build wheel ... \u001b[?25ldone\n",
      "\u001b[?25h  Preparing metadata (pyproject.toml) ... \u001b[?25ldone\n",
      "\u001b[?25hRequirement already satisfied: beautifulsoup4 in ./venv/lib/python3.10/site-packages (from gdown) (4.11.1)\n",
      "Collecting requests[socks]\n",
      "  Using cached requests-2.28.1-py3-none-any.whl (62 kB)\n",
      "Requirement already satisfied: six in ./venv/lib/python3.10/site-packages (from gdown) (1.16.0)\n",
      "Collecting tqdm\n",
      "  Downloading tqdm-4.64.1-py2.py3-none-any.whl (78 kB)\n",
      "\u001b[2K     \u001b[38;2;114;156;31m━━━━━━━━━━━━━━━━━━━━━━━━━━━━━━━━━━━━━━━━\u001b[0m \u001b[32m78.5/78.5 kB\u001b[0m \u001b[31m1.7 MB/s\u001b[0m eta \u001b[36m0:00:00\u001b[0m[31m3.6 MB/s\u001b[0m eta \u001b[36m0:00:01\u001b[0m\n",
      "\u001b[?25hCollecting filelock\n",
      "  Using cached filelock-3.8.0-py3-none-any.whl (10 kB)\n",
      "Requirement already satisfied: soupsieve>1.2 in ./venv/lib/python3.10/site-packages (from beautifulsoup4->gdown) (2.3.2.post1)\n",
      "Requirement already satisfied: idna<4,>=2.5 in ./venv/lib/python3.10/site-packages (from requests[socks]->gdown) (3.4)\n",
      "Collecting urllib3<1.27,>=1.21.1\n",
      "  Downloading urllib3-1.26.12-py2.py3-none-any.whl (140 kB)\n",
      "\u001b[2K     \u001b[38;2;114;156;31m━━━━━━━━━━━━━━━━━━━━━━━━━━━━━━━━━━━━━━━\u001b[0m \u001b[32m140.4/140.4 kB\u001b[0m \u001b[31m3.9 MB/s\u001b[0m eta \u001b[36m0:00:00\u001b[0m\n",
      "\u001b[?25hCollecting charset-normalizer<3,>=2\n",
      "  Downloading charset_normalizer-2.1.1-py3-none-any.whl (39 kB)\n",
      "Collecting certifi>=2017.4.17\n",
      "  Downloading certifi-2022.9.24-py3-none-any.whl (161 kB)\n",
      "\u001b[2K     \u001b[38;2;114;156;31m━━━━━━━━━━━━━━━━━━━━━━━━━━━━━━━━━━━━━━━\u001b[0m \u001b[32m161.1/161.1 kB\u001b[0m \u001b[31m6.0 MB/s\u001b[0m eta \u001b[36m0:00:00\u001b[0m\n",
      "\u001b[?25hCollecting PySocks!=1.5.7,>=1.5.6\n",
      "  Downloading PySocks-1.7.1-py3-none-any.whl (16 kB)\n",
      "Building wheels for collected packages: gdown\n",
      "  Building wheel for gdown (pyproject.toml) ... \u001b[?25ldone\n",
      "\u001b[?25h  Created wheel for gdown: filename=gdown-4.5.3-py3-none-any.whl size=14821 sha256=b8ab91100cb143ca67115f31f2fd650ce132f3409d97e85d5da48c96a6ef1cc0\n",
      "  Stored in directory: /Users/boyananorris/Library/Caches/pip/wheels/ac/7a/bd/8a460fd5781b4b2ada3be434c55ad0b7f87ddc376e8d2b0e66\n",
      "Successfully built gdown\n",
      "Installing collected packages: urllib3, tqdm, PySocks, filelock, charset-normalizer, certifi, requests, gdown\n",
      "Successfully installed PySocks-1.7.1 certifi-2022.9.24 charset-normalizer-2.1.1 filelock-3.8.0 gdown-4.5.3 requests-2.28.1 tqdm-4.64.1 urllib3-1.26.12\n",
      "\n",
      "\u001b[1m[\u001b[0m\u001b[34;49mnotice\u001b[0m\u001b[1;39;49m]\u001b[0m\u001b[39;49m A new release of pip available: \u001b[0m\u001b[31;49m22.2.2\u001b[0m\u001b[39;49m -> \u001b[0m\u001b[32;49m22.3.1\u001b[0m\n",
      "\u001b[1m[\u001b[0m\u001b[34;49mnotice\u001b[0m\u001b[1;39;49m]\u001b[0m\u001b[39;49m To update, run: \u001b[0m\u001b[32;49mpip install --upgrade pip\u001b[0m\n",
      "Downloading...\n",
      "From: https://drive.google.com/uc?id=1tKQWyKu9DvrDW35QfBG8VjxSWflkvAO1\n",
      "To: /Users/boyananorris/research/candydemo/CANDY_dataset.zip\n",
      "100%|████████████████████████████████████████| 151M/151M [00:03<00:00, 42.3MB/s]\n",
      "Archive:  CANDY_dataset.zip\n",
      "   creating: CANDY_dataset/\n",
      "  inflating: CANDY_dataset/baidu100_sort  \n",
      "  inflating: CANDY_dataset/baidufinalprreal  \n",
      "  inflating: CANDY_dataset/baidu1M50i  \n"
     ]
    }
   ],
   "source": [
    "!python -m pip install gdown\n",
    "!gdown  '1tKQWyKu9DvrDW35QfBG8VjxSWflkvAO1'\n",
    "!unzip CANDY_dataset.zip"
   ]
  },
  {
   "cell_type": "markdown",
   "id": "55d7f354",
   "metadata": {},
   "source": [
    "Import the CANDY python package to this workspace and display help information"
   ]
  },
  {
   "cell_type": "code",
   "execution_count": 1,
   "id": "b0b693c7",
   "metadata": {},
   "outputs": [
    {
     "ename": "SyntaxError",
     "evalue": "invalid syntax (2260656126.py, line 1)",
     "output_type": "error",
     "traceback": [
      "\u001b[0;36m  Cell \u001b[0;32mIn [1], line 1\u001b[0;36m\u001b[0m\n\u001b[0;31m    import candycandy.help()\u001b[0m\n\u001b[0m                          ^\u001b[0m\n\u001b[0;31mSyntaxError\u001b[0m\u001b[0;31m:\u001b[0m invalid syntax\n"
     ]
    }
   ],
   "source": [
    "import candy\n",
    "candy.help()"
   ]
  },
  {
   "cell_type": "code",
   "execution_count": null,
   "id": "75d08164",
   "metadata": {},
   "outputs": [],
   "source": [
    "#candy about us\n",
    "candy.about()"
   ]
  },
  {
   "cell_type": "code",
   "execution_count": null,
   "id": "acf7f560",
   "metadata": {},
   "outputs": [],
   "source": [
    "#CANDY run update PageRank\n",
    "## input parameters: 1) Sorted Directed graph (lower-higher node_id\n",
    "#                    2) Changed Edges\n",
    "#                    3) initial PR values\n",
    "#                    4) Number of Nodes\n",
    "#                    5) Number of threads\n",
    "candy.pageRank('CANDY_dataset/baidu100_sort','CANDY_dataset/baidu1M50i', 'CANDY_dataset/baidufinalprreal',2141301,32)"
   ]
  },
  {
   "cell_type": "code",
   "execution_count": null,
   "id": "958dda6e",
   "metadata": {},
   "outputs": [],
   "source": []
  }
 ],
 "metadata": {
  "kernelspec": {
   "display_name": "Python 3 (ipykernel)",
   "language": "python",
   "name": "python3"
  },
  "language_info": {
   "codemirror_mode": {
    "name": "ipython",
    "version": 3
   },
   "file_extension": ".py",
   "mimetype": "text/x-python",
   "name": "python",
   "nbconvert_exporter": "python",
   "pygments_lexer": "ipython3",
   "version": "3.10.6"
  }
 },
 "nbformat": 4,
 "nbformat_minor": 5
}
