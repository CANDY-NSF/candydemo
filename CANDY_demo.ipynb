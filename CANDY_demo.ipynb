{
 "cells": [
  {
   "cell_type": "code",
   "execution_count": 1,
   "metadata": {},
   "outputs": [
    {
     "name": "stdout",
     "output_type": "stream",
     "text": [
      "/usr/lib/python3/dist-packages/secretstorage/dhcrypto.py:15: CryptographyDeprecationWarning: int_from_bytes is deprecated, use int.from_bytes instead\n",
      "  from cryptography.utils import int_from_bytes\n",
      "/usr/lib/python3/dist-packages/secretstorage/util.py:19: CryptographyDeprecationWarning: int_from_bytes is deprecated, use int.from_bytes instead\n",
      "  from cryptography.utils import int_from_bytes\n",
      "Defaulting to user installation because normal site-packages is not writeable\n",
      "Collecting gdown\n",
      "  Using cached gdown-4.5.3.tar.gz (14 kB)\n",
      "  Installing build dependencies ... \u001b[?25ldone\n",
      "\u001b[?25h  Getting requirements to build wheel ... \u001b[?25ldone\n",
      "\u001b[?25h    Preparing wheel metadata ... \u001b[?25ldone\n",
      "\u001b[?25hRequirement already satisfied: six in /home/sriramsrinivas@unomaha.edu/.local/lib/python3.6/site-packages (from gdown) (1.14.0)\n",
      "Requirement already satisfied: requests[socks] in /home/sriramsrinivas@unomaha.edu/.local/lib/python3.6/site-packages (from gdown) (2.25.1)\n",
      "Requirement already satisfied: beautifulsoup4 in /usr/lib/python3/dist-packages (from gdown) (4.6.0)\n",
      "Collecting filelock\n",
      "  Using cached filelock-3.4.1-py3-none-any.whl (9.9 kB)\n",
      "Requirement already satisfied: tqdm in /home/sriramsrinivas@unomaha.edu/.local/lib/python3.6/site-packages (from gdown) (4.59.0)\n",
      "Requirement already satisfied: chardet<5,>=3.0.2 in /home/sriramsrinivas@unomaha.edu/.local/lib/python3.6/site-packages (from requests[socks]->gdown) (4.0.0)\n",
      "Requirement already satisfied: certifi>=2017.4.17 in /home/sriramsrinivas@unomaha.edu/.local/lib/python3.6/site-packages (from requests[socks]->gdown) (2020.12.5)\n",
      "Requirement already satisfied: urllib3<1.27,>=1.21.1 in /home/sriramsrinivas@unomaha.edu/.local/lib/python3.6/site-packages (from requests[socks]->gdown) (1.26.7)\n",
      "Requirement already satisfied: idna<3,>=2.5 in /home/sriramsrinivas@unomaha.edu/.local/lib/python3.6/site-packages (from requests[socks]->gdown) (2.10)\n",
      "Collecting PySocks!=1.5.7,>=1.5.6\n",
      "  Using cached PySocks-1.7.1-py3-none-any.whl (16 kB)\n",
      "Building wheels for collected packages: gdown\n",
      "  Building wheel for gdown (PEP 517) ... \u001b[?25ldone\n",
      "\u001b[?25h  Created wheel for gdown: filename=gdown-4.5.3-py3-none-any.whl size=14841 sha256=106b7ee9687d73adfa813362406bfdf0fb3daad5e8d81ca2d7f1fccf129a950a\n",
      "  Stored in directory: /home/sriramsrinivas@unomaha.edu/.cache/pip/wheels/b4/50/de/837fe477453c887dacfb2c5d90f0c3d0683477e9e5e9625068\n",
      "Successfully built gdown\n",
      "Installing collected packages: PySocks, filelock, gdown\n",
      "Successfully installed PySocks-1.7.1 filelock-3.4.1 gdown-4.5.3\n",
      "\u001b[33mWARNING: You are using pip version 21.0.1; however, version 21.3.1 is available.\n",
      "You should consider upgrading via the '/usr/bin/python -m pip install --upgrade pip' command.\u001b[0m\n",
      "Downloading...\n",
      "From: https://drive.google.com/uc?id=1tKQWyKu9DvrDW35QfBG8VjxSWflkvAO1\n",
      "To: /home/sriramsrinivas@unomaha.edu/candydemo/build/CANDY_dataset.zip\n",
      "100%|████████████████████████████████████████| 151M/151M [00:02<00:00, 75.3MB/s]\n",
      "Archive:  CANDY_dataset.zip\n",
      "   creating: CANDY_dataset/\n",
      "  inflating: CANDY_dataset/baidu100_sort  \n",
      "  inflating: CANDY_dataset/baidufinalprreal  \n",
      "  inflating: CANDY_dataset/baidu1M50i  \n"
     ]
    }
   ],
   "source": [
    "# install all dependencies \n",
    "!python -m pip install gdown\n",
    "# install datasets\n",
    "!gdown  '1tKQWyKu9DvrDW35QfBG8VjxSWflkvAO1'\n",
    "#unzip  candy_dataset\n",
    "!unzip CANDY_dataset.zip"
   ]
  },
  {
   "cell_type": "code",
   "execution_count": 2,
   "metadata": {},
   "outputs": [],
   "source": [
    "# now import candy library to workspace\n",
    "import candy"
   ]
  },
  {
   "cell_type": "code",
   "execution_count": 3,
   "metadata": {},
   "outputs": [
    {
     "name": "stdout",
     "output_type": "stream",
     "text": [
      "Currently CANDY Python wrapper supports updating Page Rank (PR), Single Source Shortest Path (SSSP).\n",
      "All functions for CANDY requires initial graph file, file with changed edges, initial values of graph property, num of nodes, and number of threads.\n",
      "For example, if I want to calculate Page Rank, here is how I would call and pass the input parameters candy.pageRank('DirectedGraph', 'changedEdgesPR', 'InitialPR',6,32).\n",
      "\n"
     ]
    }
   ],
   "source": [
    "#candy library helper\n",
    "candy.help()"
   ]
  },
  {
   "cell_type": "code",
   "execution_count": 4,
   "metadata": {},
   "outputs": [
    {
     "name": "stdout",
     "output_type": "stream",
     "text": [
      "CANDY software is funded by NSF, for more information about our group check our website https://sites.google.com/view/candy-nsf/CANDY\n"
     ]
    }
   ],
   "source": [
    "#candy about us\n",
    "candy.about()"
   ]
  },
  {
   "cell_type": "code",
   "execution_count": null,
   "metadata": {},
   "outputs": [
    {
     "name": "stdout",
     "output_type": "stream",
     "text": [
      "Initiating update process\n",
      "Update process started\n",
      "Graph Name: CANDY_dataset/baidu100_sort\n",
      "Nodes: 2141301\n",
      "Edges: 27794840\n"
     ]
    }
   ],
   "source": [
    "#CANDY run update PageRank\n",
    "## input parameters: 1) Sorted Directed graph (lower-higher node_id\n",
    "#                    2) Changed Edges\n",
    "#                    3) initial PR values\n",
    "#                    4) Number of Nodes\n",
    "#                    5) Number of threads\n",
    "candy.pageRank('CANDY_dataset/baidu100_sort','CANDY_dataset/baidu1M50i', 'CANDY_dataset/baidufinalprreal',2141301,32)"
   ]
  },
  {
   "cell_type": "code",
   "execution_count": null,
   "metadata": {},
   "outputs": [],
   "source": []
  }
 ],
 "metadata": {
  "kernelspec": {
   "display_name": "Python 3",
   "language": "python",
   "name": "python3"
  },
  "language_info": {
   "codemirror_mode": {
    "name": "ipython",
    "version": 3
   },
   "file_extension": ".py",
   "mimetype": "text/x-python",
   "name": "python",
   "nbconvert_exporter": "python",
   "pygments_lexer": "ipython3",
   "version": "3.6.9"
  }
 },
 "nbformat": 4,
 "nbformat_minor": 5
}
