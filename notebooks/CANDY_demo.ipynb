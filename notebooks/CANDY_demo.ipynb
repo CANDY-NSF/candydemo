{
 "cells": [
  {
   "cell_type": "markdown",
   "id": "1ae0762b",
   "metadata": {},
   "source": [
    "## SC22 CANDY Demo\n",
    "https://github.com/CANDY-NSF/candydemo"
   ]
  },
  {
   "cell_type": "markdown",
   "id": "f8c1196e",
   "metadata": {},
   "source": [
    "First, install all dependencies."
   ]
  },
  {
   "cell_type": "code",
   "execution_count": null,
   "id": "07f16dc8",
   "metadata": {},
   "outputs": [],
   "source": [
    "!python -m pip -q install gdown\n",
    "!gdown -q '1tKQWyKu9DvrDW35QfBG8VjxSWflkvAO1'\n",
    "!unzip -of CANDY_dataset.zip"
   ]
  },
  {
   "cell_type": "markdown",
   "id": "55d7f354",
   "metadata": {},
   "source": [
    "Import the CANDY python package to this workspace and display help information. "
   ]
  },
  {
   "cell_type": "code",
   "execution_count": null,
   "id": "b0b693c7",
   "metadata": {},
   "outputs": [],
   "source": [
    "import candy\n",
    "candy.help()"
   ]
  },
  {
   "cell_type": "markdown",
   "id": "90519a0e",
   "metadata": {},
   "source": [
    "A bit more about our project."
   ]
  },
  {
   "cell_type": "code",
   "execution_count": null,
   "id": "75d08164",
   "metadata": {},
   "outputs": [],
   "source": [
    "candy.about()"
   ]
  },
  {
   "cell_type": "markdown",
   "id": "47bed72c",
   "metadata": {},
   "source": [
    "### Example: Update PageRank with CANDY\n",
    "Input parameters: \n",
    "1. `inputGraphFile`: sorted directed graph (lower to higher node_id),\n",
    "2. `changedEdges`: a list of changed edges,\n",
    "3. `initialPageRank`: initial PR values,\n",
    "4. `totalNodes`: total number of vertices in the graph,\n",
    "5. `threads`: number of threads to use for the parallel update."
   ]
  },
  {
   "cell_type": "code",
   "execution_count": null,
   "id": "acf7f560",
   "metadata": {},
   "outputs": [],
   "source": [
    "candy.pageRank(inputGraphFile = 'CANDY_dataset/baidu100_sort',\n",
    "               changedEdges = 'CANDY_dataset/baidu1M50i',\n",
    "               initialPageRank = 'CANDY_dataset/baidufinalprreal', \n",
    "               totalNodes = 2141301, threads = 32)"
   ]
  }
 ],
 "metadata": {
  "kernelspec": {
   "display_name": "Python 3 (ipykernel)",
   "language": "python",
   "name": "python3"
  },
  "language_info": {
   "codemirror_mode": {
    "name": "ipython",
    "version": 3
   },
   "file_extension": ".py",
   "mimetype": "text/x-python",
   "name": "python",
   "nbconvert_exporter": "python",
   "pygments_lexer": "ipython3",
   "version": "3.10.6"
  }
 },
 "nbformat": 4,
 "nbformat_minor": 5
}
